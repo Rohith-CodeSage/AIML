{
  "nbformat": 4,
  "nbformat_minor": 0,
  "metadata": {
    "colab": {
      "provenance": [],
      "authorship_tag": "ABX9TyOZA0EHHLUV6+F16tET7B39",
      "include_colab_link": true
    },
    "kernelspec": {
      "name": "python3",
      "display_name": "Python 3"
    },
    "language_info": {
      "name": "python"
    }
  },
  "cells": [
    {
      "cell_type": "markdown",
      "metadata": {
        "id": "view-in-github",
        "colab_type": "text"
      },
      "source": [
        "<a href=\"https://colab.research.google.com/github/Rohith-CodeSage/AIML/blob/main/2303A52198_35_6.ipynb\" target=\"_parent\"><img src=\"https://colab.research.google.com/assets/colab-badge.svg\" alt=\"Open In Colab\"/></a>"
      ]
    },
    {
      "cell_type": "markdown",
      "source": [
        "**by using the above data set complete this project Prediction of National Poll on Health Aging**\n",
        "\n",
        "**Q1. Identify the top 5 reasons for health aging?**\n",
        "\n",
        "\n",
        "**Q2. Name the community which has the highest aging issues?**\n",
        "\n",
        "\n",
        "**Q3. Identify the gender which has the most aging and least aging issues.**\n",
        "\n",
        "\n",
        "**Q4. Does age, employment, and mental stress contribute to health aging?**\n",
        "\n",
        "**Q5. Name the category which visited the most number of doctors?**\n"
      ],
      "metadata": {
        "id": "FtxgA36BANXB"
      }
    },
    {
      "cell_type": "code",
      "source": [
        "import pandas as pd\n",
        "\n",
        "# Load the uploaded CSV file to inspect the data\n",
        "file_path = '/content/NPHA-doctor-visits.csv'\n",
        "data = pd.read_csv(file_path)\n",
        "\n",
        "# Display the first few rows of the dataset\n",
        "data.head(), data.info()\n"
      ],
      "metadata": {
        "colab": {
          "base_uri": "https://localhost:8080/"
        },
        "id": "xiGwA-pw_sgw",
        "outputId": "8e576d0e-ec18-47c6-c7f2-6f740e6256a2"
      },
      "execution_count": 1,
      "outputs": [
        {
          "output_type": "stream",
          "name": "stdout",
          "text": [
            "<class 'pandas.core.frame.DataFrame'>\n",
            "RangeIndex: 714 entries, 0 to 713\n",
            "Data columns (total 15 columns):\n",
            " #   Column                                      Non-Null Count  Dtype\n",
            "---  ------                                      --------------  -----\n",
            " 0   Number of Doctors Visited                   714 non-null    int64\n",
            " 1   Age                                         714 non-null    int64\n",
            " 2   Phyiscal Health                             714 non-null    int64\n",
            " 3   Mental Health                               714 non-null    int64\n",
            " 4   Dental Health                               714 non-null    int64\n",
            " 5   Employment                                  714 non-null    int64\n",
            " 6   Stress Keeps Patient from Sleeping          714 non-null    int64\n",
            " 7   Medication Keeps Patient from Sleeping      714 non-null    int64\n",
            " 8   Pain Keeps Patient from Sleeping            714 non-null    int64\n",
            " 9   Bathroom Needs Keeps Patient from Sleeping  714 non-null    int64\n",
            " 10  Uknown Keeps Patient from Sleeping          714 non-null    int64\n",
            " 11  Trouble Sleeping                            714 non-null    int64\n",
            " 12  Prescription Sleep Medication               714 non-null    int64\n",
            " 13  Race                                        714 non-null    int64\n",
            " 14  Gender                                      714 non-null    int64\n",
            "dtypes: int64(15)\n",
            "memory usage: 83.8 KB\n"
          ]
        },
        {
          "output_type": "execute_result",
          "data": {
            "text/plain": [
              "(   Number of Doctors Visited  Age  Phyiscal Health  Mental Health  \\\n",
              " 0                          3    2                4              3   \n",
              " 1                          2    2                4              2   \n",
              " 2                          3    2                3              2   \n",
              " 3                          1    2                3              2   \n",
              " 4                          3    2                3              3   \n",
              " \n",
              "    Dental Health  Employment  Stress Keeps Patient from Sleeping  \\\n",
              " 0              3           3                                   0   \n",
              " 1              3           3                                   1   \n",
              " 2              3           3                                   0   \n",
              " 3              3           3                                   0   \n",
              " 4              3           3                                   1   \n",
              " \n",
              "    Medication Keeps Patient from Sleeping  Pain Keeps Patient from Sleeping  \\\n",
              " 0                                       0                                 0   \n",
              " 1                                       0                                 0   \n",
              " 2                                       0                                 0   \n",
              " 3                                       0                                 0   \n",
              " 4                                       0                                 0   \n",
              " \n",
              "    Bathroom Needs Keeps Patient from Sleeping  \\\n",
              " 0                                           0   \n",
              " 1                                           1   \n",
              " 2                                           0   \n",
              " 3                                           1   \n",
              " 4                                           0   \n",
              " \n",
              "    Uknown Keeps Patient from Sleeping  Trouble Sleeping  \\\n",
              " 0                                   1                 2   \n",
              " 1                                   0                 3   \n",
              " 2                                   1                 3   \n",
              " 3                                   0                 3   \n",
              " 4                                   0                 2   \n",
              " \n",
              "    Prescription Sleep Medication  Race  Gender  \n",
              " 0                              3     1       2  \n",
              " 1                              3     1       1  \n",
              " 2                              3     4       1  \n",
              " 3                              3     4       2  \n",
              " 4                              3     1       2  ,\n",
              " None)"
            ]
          },
          "metadata": {},
          "execution_count": 1
        }
      ]
    },
    {
      "cell_type": "markdown",
      "source": [
        "**Q1: Identify the top 5 reasons for health aging**"
      ],
      "metadata": {
        "id": "F54KHy-6A14M"
      }
    },
    {
      "cell_type": "code",
      "source": [
        "# Aggregating sleep-related and health-related issues to find the most significant contributors\n",
        "health_aging_factors = data[\n",
        "    [\n",
        "        \"Phyiscal Health\",\n",
        "        \"Mental Health\",\n",
        "        \"Dental Health\",\n",
        "        \"Stress Keeps Patient from Sleeping\",\n",
        "        \"Medication Keeps Patient from Sleeping\",\n",
        "        \"Pain Keeps Patient from Sleeping\",\n",
        "        \"Bathroom Needs Keeps Patient from Sleeping\",\n",
        "        \"Uknown Keeps Patient from Sleeping\",\n",
        "    ]\n",
        "].sum().sort_values(ascending=False)"
      ],
      "metadata": {
        "id": "3aiaJWLg_re0"
      },
      "execution_count": 3,
      "outputs": []
    },
    {
      "cell_type": "markdown",
      "source": [
        "**Q2: Name the community with the highest aging issues**\n"
      ],
      "metadata": {
        "id": "svkbP9cYBH63"
      }
    },
    {
      "cell_type": "code",
      "source": [
        "# Assuming aging issues are correlated with number of doctor visits; group by \"Race\"\n",
        "\n",
        "highest_aging_community = data.groupby(\"Race\")[\"Number of Doctors Visited\"].mean().idxmax()\n",
        "\n"
      ],
      "metadata": {
        "id": "bWpqBHanBANI"
      },
      "execution_count": 4,
      "outputs": []
    },
    {
      "cell_type": "markdown",
      "source": [
        "**Q3: Identify the gender with the most aging and least aging issues**"
      ],
      "metadata": {
        "id": "Q0tq3EdiBL6F"
      }
    },
    {
      "cell_type": "code",
      "source": [
        "# Grouping by \"Gender\" to analyze the average number of doctor visits\n",
        "aging_by_gender = data.groupby(\"Gender\")[\"Number of Doctors Visited\"].mean()"
      ],
      "metadata": {
        "id": "ZpgVmklrBR38"
      },
      "execution_count": 5,
      "outputs": []
    },
    {
      "cell_type": "markdown",
      "source": [
        "**Q4: Does age, employment, and mental stress contribute to health aging?**"
      ],
      "metadata": {
        "id": "ORGE6-zkBbl6"
      }
    },
    {
      "cell_type": "code",
      "source": [
        "# Correlation check for these factors with \"Number of Doctors Visited\"\n",
        "correlations = data[\n",
        "    [\"Age\", \"Employment\", \"Mental Health\", \"Number of Doctors Visited\"]\n",
        "].corr()[\"Number of Doctors Visited\"].drop(\"Number of Doctors Visited\")"
      ],
      "metadata": {
        "id": "0N7WLEW1BX6X"
      },
      "execution_count": 6,
      "outputs": []
    },
    {
      "cell_type": "markdown",
      "source": [
        "**Q5: Name the category which visited the most number of doctors**"
      ],
      "metadata": {
        "id": "UV7VHMDDBhFZ"
      }
    },
    {
      "cell_type": "code",
      "source": [
        "most_doctor_visits = data.groupby(\"Race\")[\"Number of Doctors Visited\"].sum().idxmax()"
      ],
      "metadata": {
        "id": "qL7-mPzxBlI9"
      },
      "execution_count": 7,
      "outputs": []
    },
    {
      "cell_type": "markdown",
      "source": [
        "**RESULTS**"
      ],
      "metadata": {
        "id": "Qqp1kXlZBq7e"
      }
    },
    {
      "cell_type": "code",
      "source": [
        "print(\"health_aging_factors:\\n\", health_aging_factors, \"\\n\")\n",
        "print(\"highest_aging_community:\\n\", highest_aging_community, \"\\n\")\n",
        "print(\"aging_by_gender:\\n\", aging_by_gender, \"\\n\")\n",
        "print(\"correlations:\\n\", correlations, \"\\n\")\n",
        "print(\"most_doctor_visits:\\n\", most_doctor_visits, \"\\n\")\n"
      ],
      "metadata": {
        "colab": {
          "base_uri": "https://localhost:8080/"
        },
        "id": "kFy5Zn13BuVk",
        "outputId": "ed40cded-2bb1-47ae-9c5c-a6fead00f349"
      },
      "execution_count": 11,
      "outputs": [
        {
          "output_type": "stream",
          "name": "stdout",
          "text": [
            "health_aging_factors:\n",
            " Dental Health                                 2149\n",
            "Phyiscal Health                               1995\n",
            "Mental Health                                 1420\n",
            "Bathroom Needs Keeps Patient from Sleeping     360\n",
            "Uknown Keeps Patient from Sleeping             298\n",
            "Stress Keeps Patient from Sleeping             177\n",
            "Pain Keeps Patient from Sleeping               156\n",
            "Medication Keeps Patient from Sleeping          40\n",
            "dtype: int64 \n",
            "\n",
            "highest_aging_community:\n",
            " 5 \n",
            "\n",
            "aging_by_gender:\n",
            " Gender\n",
            "1    2.112150\n",
            "2    2.111959\n",
            "Name: Number of Doctors Visited, dtype: float64 \n",
            "\n",
            "correlations:\n",
            " Age                   NaN\n",
            "Employment       0.092578\n",
            "Mental Health    0.049990\n",
            "Name: Number of Doctors Visited, dtype: float64 \n",
            "\n",
            "most_doctor_visits:\n",
            " 1 \n",
            "\n"
          ]
        }
      ]
    }
  ]
}